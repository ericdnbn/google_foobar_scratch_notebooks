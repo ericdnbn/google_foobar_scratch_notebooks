{
 "cells": [
  {
   "cell_type": "code",
   "execution_count": 1,
   "metadata": {},
   "outputs": [],
   "source": [
    "def max_calculator(h):\n",
    "    m = 1\n",
    "    for l in range(1,h):\n",
    "        m += 2**l\n",
    "    return m"
   ]
  },
  {
   "cell_type": "code",
   "execution_count": 2,
   "metadata": {},
   "outputs": [],
   "source": [
    "class Node:\n",
    "    def __init__(self, root=None):\n",
    "        self.root = root\n",
    "        self.left = self.right = None"
   ]
  },
  {
   "cell_type": "code",
   "execution_count": 36,
   "metadata": {},
   "outputs": [],
   "source": [
    "def postorder(height, nums, target, l, root):\n",
    "    r = root\n",
    "    if height == 1:\n",
    "        is_num = Node(nums.pop())\n",
    "        if is_num.root == target:\n",
    "            l.append(r)\n",
    "            return l\n",
    "        else:\n",
    "            pass\n",
    "        return is_num\n",
    "    node = Node()\n",
    "    node.root = nums.pop()\n",
    "    \n",
    "    if node.root == target and target == r:\n",
    "        l.append(-1)\n",
    "        return l\n",
    "    elif node.root == target:\n",
    "        l.append(r)\n",
    "        return l\n",
    "        \n",
    "    node.right = postorder(height-1, nums, target, l, node.root)      \n",
    "    node.left = postorder(height-1, nums, target, l, node.root)\n",
    "\n"
   ]
  },
  {
   "cell_type": "code",
   "execution_count": 37,
   "metadata": {},
   "outputs": [],
   "source": [
    "def solution(h, q):\n",
    "    p = []\n",
    "    if h == 1:\n",
    "        p.append(-1)\n",
    "    m = max_calculator(h)\n",
    "    for x in q:\n",
    "        postorder(h, list(range(1,2**h)), x, p, m)\n",
    "    \n",
    "    return p"
   ]
  },
  {
   "cell_type": "code",
   "execution_count": 38,
   "metadata": {},
   "outputs": [],
   "source": [
    "answers = solution(5, [16, 3, 10, 31, 14, 22])"
   ]
  },
  {
   "cell_type": "code",
   "execution_count": 39,
   "metadata": {},
   "outputs": [
    {
     "data": {
      "text/plain": [
       "[18, 7, 14, -1, 15, 30]"
      ]
     },
     "execution_count": 39,
     "metadata": {},
     "output_type": "execute_result"
    }
   ],
   "source": [
    "answers"
   ]
  },
  {
   "cell_type": "code",
   "execution_count": null,
   "metadata": {},
   "outputs": [],
   "source": []
  },
  {
   "cell_type": "code",
   "execution_count": null,
   "metadata": {},
   "outputs": [],
   "source": []
  },
  {
   "cell_type": "code",
   "execution_count": 40,
   "metadata": {},
   "outputs": [],
   "source": [
    "def process_converter(max_idx, converter):\n",
    "    prev_node = -1\n",
    "    current_node = max_idx\n",
    "    # The subtree is how many elements we have in total for a node\n",
    "    subtree = max_idx\n",
    "\n",
    "    if current_node == converter:\n",
    "        return prev_node\n",
    "\n",
    "    prev_node = current_node\n",
    "\n",
    "    while subtree > 1:\n",
    "        # As we go down through the tree, each level reduces the number by half, which is the same as shifting 1 bit\n",
    "        subtree = subtree >> 1\n",
    "\n",
    "        left = current_node - subtree - 1\n",
    "        right = current_node - 1"
   ]
  },
  {
   "cell_type": "code",
   "execution_count": 42,
   "metadata": {},
   "outputs": [],
   "source": [
    "ans = process_converter(31, 21)"
   ]
  },
  {
   "cell_type": "code",
   "execution_count": 43,
   "metadata": {},
   "outputs": [],
   "source": [
    "ans"
   ]
  },
  {
   "cell_type": "code",
   "execution_count": 47,
   "metadata": {},
   "outputs": [],
   "source": [
    "subtree = 30"
   ]
  },
  {
   "cell_type": "code",
   "execution_count": 48,
   "metadata": {},
   "outputs": [],
   "source": [
    "subtree = subtree >> 1"
   ]
  },
  {
   "cell_type": "code",
   "execution_count": 49,
   "metadata": {},
   "outputs": [
    {
     "data": {
      "text/plain": [
       "15"
      ]
     },
     "execution_count": 49,
     "metadata": {},
     "output_type": "execute_result"
    }
   ],
   "source": [
    "subtree"
   ]
  },
  {
   "cell_type": "code",
   "execution_count": null,
   "metadata": {},
   "outputs": [],
   "source": []
  }
 ],
 "metadata": {
  "kernelspec": {
   "display_name": "Python (learn-env)",
   "language": "python",
   "name": "learn-env"
  },
  "language_info": {
   "codemirror_mode": {
    "name": "ipython",
    "version": 3
   },
   "file_extension": ".py",
   "mimetype": "text/x-python",
   "name": "python",
   "nbconvert_exporter": "python",
   "pygments_lexer": "ipython3",
   "version": "3.8.5"
  }
 },
 "nbformat": 4,
 "nbformat_minor": 4
}
