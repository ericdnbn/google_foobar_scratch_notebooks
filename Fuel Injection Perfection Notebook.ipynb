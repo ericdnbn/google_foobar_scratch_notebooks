{
 "cells": [
  {
   "cell_type": "code",
   "execution_count": 2,
   "metadata": {},
   "outputs": [],
   "source": [
    "def is_power_two(n):\n",
    "    return (x != 0) and ((x&(x-1)) == 0)\n",
    "\n",
    "def solution(n):\n",
    "    n = int(n)\n",
    "    counter = 0\n",
    "    while n > 1:\n",
    "        if n % 2 == 0:\n",
    "            n = n//2\n",
    "        elif n == 3 or n % 4 == 1:\n",
    "            if is_power_two(n+1):\n",
    "                n += 1\n",
    "            else\n",
    "                n -= 1\n",
    "        \n",
    "        counter += 1\n",
    "                \n",
    "    return counter"
   ]
  },
  {
   "cell_type": "code",
   "execution_count": null,
   "metadata": {},
   "outputs": [],
   "source": [
    "def solution(n):\n",
    "    n = int(n)\n",
    "    \n",
    "    counter = 0\n",
    "    \n",
    "    while n > 1:\n",
    "        if n % 2 == 0:\n",
    "            n = n//2\n",
    "        elif n == 3 or n % 4 == 1:\n",
    "            n -= 1\n",
    "        else: \n",
    "            n += 1\n",
    "        \n",
    "        counter += 1\n",
    "    \n",
    "    return counter"
   ]
  },
  {
   "cell_type": "code",
   "execution_count": null,
   "metadata": {},
   "outputs": [],
   "source": [
    "# Increasing the recursion limit is blacklisted code. \n",
    "# Without that, recursion does not work, as the recursion limit gets reached\n",
    "\n",
    "import sys\n",
    "from functools import lru_cache\n",
    "\n",
    "sys.setrecursionlimit(3333)  # estimated by trial and error\n",
    "\n",
    "@lru_cache()\n",
    "def solution(n):\n",
    "    n = int(n)\n",
    "\n",
    "    if n <= 2:\n",
    "        return n - 1\n",
    "\n",
    "    if n % 2 == 0:\n",
    "        return solution(n // 2) + 1\n",
    "\n",
    "    return min(solution(n + 1), solution(n - 1)) + 1"
   ]
  }
 ],
 "metadata": {
  "kernelspec": {
   "display_name": "Python (learn-env)",
   "language": "python",
   "name": "learn-env"
  },
  "language_info": {
   "codemirror_mode": {
    "name": "ipython",
    "version": 3
   },
   "file_extension": ".py",
   "mimetype": "text/x-python",
   "name": "python",
   "nbconvert_exporter": "python",
   "pygments_lexer": "ipython3",
   "version": "3.8.5"
  }
 },
 "nbformat": 4,
 "nbformat_minor": 4
}
